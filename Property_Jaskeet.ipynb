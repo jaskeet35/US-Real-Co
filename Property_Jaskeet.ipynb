{
 "cells": [
  {
   "cell_type": "code",
   "execution_count": 126,
   "metadata": {},
   "outputs": [],
   "source": [
    "import pandas as pd\n",
    "import numpy as np\n",
    "import math"
   ]
  },
  {
   "cell_type": "code",
   "execution_count": 127,
   "metadata": {},
   "outputs": [],
   "source": [
    "import os\n",
    "os.chdir('C://Users/Jaskeet/Downloads/Applications/US Real Co/Data Challenge/raw_data')"
   ]
  },
  {
   "cell_type": "code",
   "execution_count": 128,
   "metadata": {},
   "outputs": [
    {
     "name": "stdout",
     "output_type": "stream",
     "text": [
      "   MarketCode             MarketName StateCode StateName  CountyCode  \\\n",
      "0       12420  Austin-Round Rock, TX        TX     Texas         453   \n",
      "1       12420  Austin-Round Rock, TX        TX     Texas         209   \n",
      "2       12420  Austin-Round Rock, TX        TX     Texas         453   \n",
      "3       12420  Austin-Round Rock, TX        TX     Texas         453   \n",
      "4       12420  Austin-Round Rock, TX        TX     Texas         453   \n",
      "\n",
      "  CountyName TractCode  BlockGroupCode  Latitude  Longitude   ...    Jan-18  \\\n",
      "0     Travis       NaN             NaN  30.30917  -97.72881   ...         S   \n",
      "1       Hays    010400             3.0  29.84896  -97.94931   ...     UC/LU   \n",
      "2     Travis    001860             2.0  30.45009  -97.64873   ...         S   \n",
      "3     Travis    000604             3.0  30.28462  -97.74723   ...         S   \n",
      "4     Travis       NaN             NaN  30.28147  -97.75801   ...         S   \n",
      "\n",
      "  Feb-18 Mar-18 Apr-18 May-18 Jun-18  Jul-18  Aug-18  Sep-18  Oct-18  \n",
      "0      S      S      S      S      S       S       S       S       S  \n",
      "1  UC/LU  UC/LU  UC/LU  UC/LU  UC/LU   UC/LU   UC/LU   UC/LU      LU  \n",
      "2      S      S      S      S      S       S       S       S       S  \n",
      "3      S      S      S      S      S       S       S       S       S  \n",
      "4      S      S      S      S      S       S       S       S       S  \n",
      "\n",
      "[5 rows x 154 columns]\n"
     ]
    }
   ],
   "source": [
    "xls = pd.ExcelFile('MSA1.xlsx')\n",
    "df1 = pd.read_excel(xls,'Property Status',header=4)\n",
    "xls2 = pd.ExcelFile('MSA2.xlsx')\n",
    "df2 = pd.read_excel(xls2,'Property Status',header=4)"
   ]
  },
  {
   "cell_type": "code",
   "execution_count": 129,
   "metadata": {},
   "outputs": [],
   "source": [
    "def ret_cnt(prop_status_np):\n",
    "    cnt = 0\n",
    "    for i in range(prop_status_np.shape[0]):\n",
    "        if(prop_status_np[i,0]=='S'):\n",
    "            for j in range(1,prop_status_np[i].shape[0]):\n",
    "                if(type(prop_status_np[i][j]) != type('str')):\n",
    "                    continue\n",
    "                elif(prop_status_np[i][j] == 'S' or prop_status_np[i][j] == 'R'):\n",
    "                    break\n",
    "                else:\n",
    "                    cnt += 1\n",
    "                    break\n",
    "    return cnt"
   ]
  },
  {
   "cell_type": "code",
   "execution_count": 130,
   "metadata": {},
   "outputs": [],
   "source": [
    "cols = [i for i in df1.columns]\n",
    "cols2 = [i for i in df2.columns]"
   ]
  },
  {
   "cell_type": "code",
   "execution_count": null,
   "metadata": {},
   "outputs": [],
   "source": []
  },
  {
   "cell_type": "code",
   "execution_count": 131,
   "metadata": {},
   "outputs": [],
   "source": [
    "prop_status_1 = df1.iloc[:,26:]\n",
    "prop_status_2 = df2.iloc[:,26:]"
   ]
  },
  {
   "cell_type": "code",
   "execution_count": 132,
   "metadata": {},
   "outputs": [
    {
     "name": "stdout",
     "output_type": "stream",
     "text": [
      "['S' 'S' 'S' 'S' 'S' 'S' 'S' 'S' 'S' 'S' 'S' 'S' 'S' 'S' 'S' 'UC/LU'\n",
      " 'UC/LU' 'S' 'S' 'S' 'S' 'S' 'R' 'S' 'S' 'S' 'S' 'S' 'S' 'S' 'S' 'S' 'S'\n",
      " 'S' 'S' 'S' 'S' 'S' 'S' 'S' 'S' 'S' 'S' 'S' 'S' 'S' 'S' 'S' 'S' 'S' 'S'\n",
      " 'S' 'R' 'S' 'S' 'S' 'S' 'R' 'S' 'S' 'S' 'S' 'S' 'S' 'S' 'S' 'S' 'S' 'S'\n",
      " 'S' 'S' 'S' 'S' 'S' 'S' 'S' 'S' 'S' 'S' 'S' 'S' 'S' 'S' 'S' 'S' 'S' 'S'\n",
      " 'S' 'S' 'S' 'S' 'S' 'S' 'S' 'S' 'R' 'S' 'S' 'S' 'S' 'S' 'S' 'S' 'S' 'S'\n",
      " 'S' 'S' 'S']\n"
     ]
    }
   ],
   "source": [
    "prop_status_np_1 = prop_status_1.values\n",
    "prop_status_np_2 = prop_status_2.values"
   ]
  },
  {
   "cell_type": "code",
   "execution_count": 133,
   "metadata": {},
   "outputs": [
    {
     "name": "stdout",
     "output_type": "stream",
     "text": [
      "(858, 128)\n"
     ]
    }
   ],
   "source": [
    "print(prop_status_np_2.shape)"
   ]
  },
  {
   "cell_type": "code",
   "execution_count": 136,
   "metadata": {},
   "outputs": [
    {
     "name": "stdout",
     "output_type": "stream",
     "text": [
      "Market 1 delivered count is:  10\n",
      "Market 2 delivered count is:  214\n",
      "Total delivered count across both the markets is:  224\n"
     ]
    }
   ],
   "source": [
    "cnt1 = ret_cnt(prop_status_np_1)\n",
    "cnt2 = ret_cnt(prop_status_np_2)\n",
    "print(\"Market 1 delivered count is: \",cnt1)\n",
    "print(\"Market 2 delivered count is: \", cnt2)\n",
    "print(\"Total delivered count across both the markets is: \",cnt1+cnt2)"
   ]
  },
  {
   "cell_type": "code",
   "execution_count": null,
   "metadata": {},
   "outputs": [],
   "source": [
    "#The above is the solution to Part 1"
   ]
  },
  {
   "cell_type": "code",
   "execution_count": 139,
   "metadata": {},
   "outputs": [],
   "source": [
    "def ret_new_cnt(prop_status_np):\n",
    "    cnt = 0\n",
    "    for i in range(prop_status_np.shape[0]):\n",
    "        if(prop_status_np[i,0]=='S'):\n",
    "            for j in range(1,prop_status_np[i].shape[0]):\n",
    "                if(type(prop_status_np[i][j]) != type('str') or prop_status_np[i][j] == 'S' or prop_status_np[i][j] == 'R'):\n",
    "                    continue\n",
    "                else:\n",
    "                    cnt += 1\n",
    "    return cnt"
   ]
  },
  {
   "cell_type": "code",
   "execution_count": 145,
   "metadata": {},
   "outputs": [
    {
     "name": "stdout",
     "output_type": "stream",
     "text": [
      "Market 1 average lease-up time is:  0.7156862745098039  months\n",
      "Market 2 average lease-up time is:  2.686619718309859  months\n",
      "Average lease-up time across both the markets is:  2.4758909853249476  months\n"
     ]
    }
   ],
   "source": [
    "cnt1 = ret_new_cnt(prop_status_np_1)\n",
    "cnt2 = ret_new_cnt(prop_status_np_2)\n",
    "print(\"Market 1 average lease-up time is: \",cnt1/(prop_status_np_1.shape[0]-6), \" months\")\n",
    "print(\"Market 2 average lease-up time is: \", cnt2/(prop_status_np_2.shape[0]-6), \" months\")\n",
    "print(\"Average lease-up time across both the markets is: \",(cnt1+cnt2)/(prop_status_np_1.shape[0]+prop_status_np_2.shape[0]-12), \" months\")"
   ]
  },
  {
   "cell_type": "code",
   "execution_count": null,
   "metadata": {},
   "outputs": [],
   "source": []
  }
 ],
 "metadata": {
  "kernelspec": {
   "display_name": "Python 3",
   "language": "python",
   "name": "python3"
  },
  "language_info": {
   "codemirror_mode": {
    "name": "ipython",
    "version": 3
   },
   "file_extension": ".py",
   "mimetype": "text/x-python",
   "name": "python",
   "nbconvert_exporter": "python",
   "pygments_lexer": "ipython3",
   "version": "3.7.1"
  }
 },
 "nbformat": 4,
 "nbformat_minor": 2
}
